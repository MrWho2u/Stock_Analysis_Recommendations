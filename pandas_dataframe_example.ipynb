{
 "cells": [
  {
   "cell_type": "code",
   "execution_count": 1,
   "id": "17cdccfc-9895-4482-bde9-2cc4793f77b6",
   "metadata": {},
   "outputs": [],
   "source": [
    "import datetime as dt\n",
    "import pandas as pd\n",
    "from pandas_datareader import data as pdr\n",
    "import yfinance as yf"
   ]
  },
  {
   "cell_type": "code",
   "execution_count": 2,
   "id": "353b2905-62d9-4132-936b-b220e2ed0ace",
   "metadata": {},
   "outputs": [
    {
     "data": {
      "text/plain": [
       "('2009-05-27', '2023-02-03')"
      ]
     },
     "execution_count": 2,
     "metadata": {},
     "output_type": "execute_result"
    }
   ],
   "source": [
    "end = dt.date.today()\n",
    "start= end - dt.timedelta(days=5000)\n",
    "start_str = start.strftime('%Y-%m-%d')\n",
    "end_str = end.strftime('%Y-%m-%d')\n",
    "start_str, end_str"
   ]
  },
  {
   "cell_type": "code",
   "execution_count": 16,
   "id": "36400200-11ed-400d-823b-8206f1d1bbcd",
   "metadata": {},
   "outputs": [],
   "source": [
    "stocklist = [\"SPY\",\"F\"]"
   ]
  },
  {
   "cell_type": "code",
   "execution_count": 19,
   "id": "2c5b336d-7141-4c12-922b-057ce9efea7c",
   "metadata": {},
   "outputs": [
    {
     "name": "stdout",
     "output_type": "stream",
     "text": [
      "[*********************100%***********************]  2 of 2 completed\n"
     ]
    }
   ],
   "source": [
    "# yf.pdr_override()\n",
    "stock_data = pdr.get_data_yahoo(stocklist, start_str, end_str)"
   ]
  },
  {
   "cell_type": "code",
   "execution_count": 20,
   "id": "8d49f7a1-ec71-4fd7-92a3-2180402066a2",
   "metadata": {},
   "outputs": [
    {
     "data": {
      "text/html": [
       "<div>\n",
       "<style scoped>\n",
       "    .dataframe tbody tr th:only-of-type {\n",
       "        vertical-align: middle;\n",
       "    }\n",
       "\n",
       "    .dataframe tbody tr th {\n",
       "        vertical-align: top;\n",
       "    }\n",
       "\n",
       "    .dataframe thead tr th {\n",
       "        text-align: left;\n",
       "    }\n",
       "\n",
       "    .dataframe thead tr:last-of-type th {\n",
       "        text-align: right;\n",
       "    }\n",
       "</style>\n",
       "<table border=\"1\" class=\"dataframe\">\n",
       "  <thead>\n",
       "    <tr>\n",
       "      <th></th>\n",
       "      <th colspan=\"2\" halign=\"left\">Adj Close</th>\n",
       "      <th colspan=\"2\" halign=\"left\">Close</th>\n",
       "      <th colspan=\"2\" halign=\"left\">High</th>\n",
       "      <th colspan=\"2\" halign=\"left\">Low</th>\n",
       "      <th colspan=\"2\" halign=\"left\">Open</th>\n",
       "      <th colspan=\"2\" halign=\"left\">Volume</th>\n",
       "    </tr>\n",
       "    <tr>\n",
       "      <th></th>\n",
       "      <th>F</th>\n",
       "      <th>SPY</th>\n",
       "      <th>F</th>\n",
       "      <th>SPY</th>\n",
       "      <th>F</th>\n",
       "      <th>SPY</th>\n",
       "      <th>F</th>\n",
       "      <th>SPY</th>\n",
       "      <th>F</th>\n",
       "      <th>SPY</th>\n",
       "      <th>F</th>\n",
       "      <th>SPY</th>\n",
       "    </tr>\n",
       "    <tr>\n",
       "      <th>Date</th>\n",
       "      <th></th>\n",
       "      <th></th>\n",
       "      <th></th>\n",
       "      <th></th>\n",
       "      <th></th>\n",
       "      <th></th>\n",
       "      <th></th>\n",
       "      <th></th>\n",
       "      <th></th>\n",
       "      <th></th>\n",
       "      <th></th>\n",
       "      <th></th>\n",
       "    </tr>\n",
       "  </thead>\n",
       "  <tbody>\n",
       "    <tr>\n",
       "      <th>2009-05-27 00:00:00-04:00</th>\n",
       "      <td>3.487995</td>\n",
       "      <td>68.893616</td>\n",
       "      <td>5.34</td>\n",
       "      <td>89.669998</td>\n",
       "      <td>5.53</td>\n",
       "      <td>91.750000</td>\n",
       "      <td>5.25</td>\n",
       "      <td>89.529999</td>\n",
       "      <td>5.48</td>\n",
       "      <td>91.440002</td>\n",
       "      <td>55302600</td>\n",
       "      <td>246015800</td>\n",
       "    </tr>\n",
       "    <tr>\n",
       "      <th>2009-05-28 00:00:00-04:00</th>\n",
       "      <td>3.631696</td>\n",
       "      <td>69.853966</td>\n",
       "      <td>5.56</td>\n",
       "      <td>90.919998</td>\n",
       "      <td>5.56</td>\n",
       "      <td>91.339996</td>\n",
       "      <td>5.25</td>\n",
       "      <td>89.099998</td>\n",
       "      <td>5.41</td>\n",
       "      <td>90.459999</td>\n",
       "      <td>63255100</td>\n",
       "      <td>289095000</td>\n",
       "    </tr>\n",
       "    <tr>\n",
       "      <th>2009-05-29 00:00:00-04:00</th>\n",
       "      <td>3.755801</td>\n",
       "      <td>71.090935</td>\n",
       "      <td>5.75</td>\n",
       "      <td>92.529999</td>\n",
       "      <td>5.75</td>\n",
       "      <td>93.699997</td>\n",
       "      <td>5.41</td>\n",
       "      <td>90.680000</td>\n",
       "      <td>5.58</td>\n",
       "      <td>91.419998</td>\n",
       "      <td>99306500</td>\n",
       "      <td>258641500</td>\n",
       "    </tr>\n",
       "    <tr>\n",
       "      <th>2009-06-01 00:00:00-04:00</th>\n",
       "      <td>4.004009</td>\n",
       "      <td>72.811935</td>\n",
       "      <td>6.13</td>\n",
       "      <td>94.769997</td>\n",
       "      <td>6.23</td>\n",
       "      <td>95.169998</td>\n",
       "      <td>5.88</td>\n",
       "      <td>93.430000</td>\n",
       "      <td>5.95</td>\n",
       "      <td>93.669998</td>\n",
       "      <td>111714500</td>\n",
       "      <td>276246800</td>\n",
       "    </tr>\n",
       "    <tr>\n",
       "      <th>2009-06-02 00:00:00-04:00</th>\n",
       "      <td>4.186902</td>\n",
       "      <td>72.873398</td>\n",
       "      <td>6.41</td>\n",
       "      <td>94.849998</td>\n",
       "      <td>6.46</td>\n",
       "      <td>95.370003</td>\n",
       "      <td>6.03</td>\n",
       "      <td>94.230003</td>\n",
       "      <td>6.17</td>\n",
       "      <td>94.400002</td>\n",
       "      <td>134751900</td>\n",
       "      <td>230874500</td>\n",
       "    </tr>\n",
       "  </tbody>\n",
       "</table>\n",
       "</div>"
      ],
      "text/plain": [
       "                          Adj Close            Close             High  \\\n",
       "                                  F        SPY     F        SPY     F   \n",
       "Date                                                                    \n",
       "2009-05-27 00:00:00-04:00  3.487995  68.893616  5.34  89.669998  5.53   \n",
       "2009-05-28 00:00:00-04:00  3.631696  69.853966  5.56  90.919998  5.56   \n",
       "2009-05-29 00:00:00-04:00  3.755801  71.090935  5.75  92.529999  5.75   \n",
       "2009-06-01 00:00:00-04:00  4.004009  72.811935  6.13  94.769997  6.23   \n",
       "2009-06-02 00:00:00-04:00  4.186902  72.873398  6.41  94.849998  6.46   \n",
       "\n",
       "                                       Low             Open             \\\n",
       "                                 SPY     F        SPY     F        SPY   \n",
       "Date                                                                     \n",
       "2009-05-27 00:00:00-04:00  91.750000  5.25  89.529999  5.48  91.440002   \n",
       "2009-05-28 00:00:00-04:00  91.339996  5.25  89.099998  5.41  90.459999   \n",
       "2009-05-29 00:00:00-04:00  93.699997  5.41  90.680000  5.58  91.419998   \n",
       "2009-06-01 00:00:00-04:00  95.169998  5.88  93.430000  5.95  93.669998   \n",
       "2009-06-02 00:00:00-04:00  95.370003  6.03  94.230003  6.17  94.400002   \n",
       "\n",
       "                              Volume             \n",
       "                                   F        SPY  \n",
       "Date                                             \n",
       "2009-05-27 00:00:00-04:00   55302600  246015800  \n",
       "2009-05-28 00:00:00-04:00   63255100  289095000  \n",
       "2009-05-29 00:00:00-04:00   99306500  258641500  \n",
       "2009-06-01 00:00:00-04:00  111714500  276246800  \n",
       "2009-06-02 00:00:00-04:00  134751900  230874500  "
      ]
     },
     "execution_count": 20,
     "metadata": {},
     "output_type": "execute_result"
    }
   ],
   "source": [
    "stock_data.head()"
   ]
  }
 ],
 "metadata": {
  "kernelspec": {
   "display_name": "Python (dev)",
   "language": "python",
   "name": "dev"
  },
  "language_info": {
   "codemirror_mode": {
    "name": "ipython",
    "version": 3
   },
   "file_extension": ".py",
   "mimetype": "text/x-python",
   "name": "python",
   "nbconvert_exporter": "python",
   "pygments_lexer": "ipython3",
   "version": "3.9.13"
  }
 },
 "nbformat": 4,
 "nbformat_minor": 5
}
