{
 "cells": [
  {
   "cell_type": "markdown",
   "id": "23093691-fbc4-41e9-9cd5-e29616c4baf6",
   "metadata": {
    "tags": []
   },
   "source": [
    "## The goal for this section is to create 4 tables\n",
    "1. Table 1 named **rolling_stock_df** includes the Stock Close Price, Rolling mean & Rolling Standard Deviations\n",
    "2. Table 2 named **bollinger_df** includes the Stock Close Price and Bollinger Bands\n",
    "3. Table 3 named **stock_result_df** includes the Daily Stock Return\n",
    "4. Table 4 named **spy_result_df** includes the Daily SPY Return\n",
    "\n",
    "I also made a table named **stock_spy_return_df** that combines both the Daily Stock Return and SPY Return"
   ]
  },
  {
   "cell_type": "code",
   "execution_count": 117,
   "id": "e9cd6c91-f026-4add-94d2-cba05092357b",
   "metadata": {},
   "outputs": [],
   "source": [
    "import pandas as pd\n",
    "from pandas_datareader import data as pdr\n",
    "import yfinance as yfin\n",
    "yfin.pdr_override()\n",
    "from datetime import datetime\n",
    "from dateutil.relativedelta import relativedelta"
   ]
  },
  {
   "cell_type": "code",
   "execution_count": 125,
   "id": "978b016c-2de5-4ef9-93ba-f5d17038d1e4",
   "metadata": {
    "tags": []
   },
   "outputs": [
    {
     "name": "stdout",
     "output_type": "stream",
     "text": [
      "[*********************100%***********************]  1 of 1 completed\n",
      "[*********************100%***********************]  1 of 1 completed\n"
     ]
    }
   ],
   "source": [
    "# Retrieve the stock data for a particular stock\n",
    "start_date = '2012-01-01'\n",
    "delta_year = 10\n",
    "delta_months = delta_year * 12\n",
    "window_size = 21\n",
    "relative_delta = round(window_size * 7 / 5 / 30)\n",
    "\n",
    "data_start_date = str(datetime.strptime(start_date, '%Y-%m-%d') - relativedelta(months=relative_delta))[0:10]\n",
    "end_date = str(datetime.strptime(start_date, '%Y-%m-%d') + relativedelta(months=delta_months))[0:10]\n",
    "\n",
    "ticker = 'T'\n",
    "stock_df = pdr.get_data_yahoo(ticker, start=data_start_date, end=end_date)\n",
    "spy = 'SPY'\n",
    "spy_df = pdr.get_data_yahoo(spy, start=data_start_date, end=end_date)"
   ]
  },
  {
   "cell_type": "code",
   "execution_count": 122,
   "id": "1d50656a-2273-4ffe-ae2a-64d3f0577ec7",
   "metadata": {},
   "outputs": [],
   "source": [
    "#test stock_df by showing the first 5 rows\n",
    "# rolling_stock_df.head()"
   ]
  },
  {
   "cell_type": "code",
   "execution_count": 103,
   "id": "7dead238-9ea5-4892-86b3-c6aca35a953d",
   "metadata": {},
   "outputs": [],
   "source": [
    "# Calculate the rolling mean and standard deviation\n",
    "stock_df['Rolling Mean'] = stock_df['Close'].rolling(window=window_size).mean()\n",
    "stock_df['Rolling Std'] = stock_df['Close'].rolling(window=window_size).std()\n",
    "\n",
    "stock_df = stock_df.loc[start_date:]"
   ]
  },
  {
   "cell_type": "code",
   "execution_count": 104,
   "id": "d84578eb-5d73-4162-af2e-79982ca8c792",
   "metadata": {
    "tags": []
   },
   "outputs": [],
   "source": [
    "# Create a new dataframe with the close price, rolling mean, and rolling standard deviation\n",
    "rolling_stock_df = stock_df[['Close', 'Rolling Mean', 'Rolling Std']]"
   ]
  },
  {
   "cell_type": "code",
   "execution_count": 105,
   "id": "f3e64dd8-5312-46b9-a426-158d2817e2d1",
   "metadata": {},
   "outputs": [],
   "source": [
    "# Test showing the first 5 rows\n",
    "# rolling_stock_df.head()"
   ]
  },
  {
   "cell_type": "code",
   "execution_count": 106,
   "id": "e1e3ec51-d49d-4887-8e78-7172674c49bd",
   "metadata": {
    "tags": []
   },
   "outputs": [],
   "source": [
    "# Calculate the upper and lower Bollinger Bands\n",
    "upper_band = stock_df['Rolling Mean'] + 2 * stock_df['Rolling Std']\n",
    "lower_band = stock_df['Rolling Mean'] - 2 * stock_df['Rolling Std']"
   ]
  },
  {
   "cell_type": "code",
   "execution_count": 119,
   "id": "7d0969dc-fea0-4f4f-b8e3-31e3869e78a0",
   "metadata": {},
   "outputs": [],
   "source": [
    "# Create a new dataframe with the stock close price, upper and lower Bollinger Bands\n",
    "bollinger_df = pd.concat([stock_df['Close'], upper_band, lower_band], axis=1)\n",
    "bollinger_df.columns = ['Close', 'Upper Band', 'Lower Band']"
   ]
  },
  {
   "cell_type": "code",
   "execution_count": 108,
   "id": "abe7ae88-5def-44ae-8a59-e83337ecd41f",
   "metadata": {},
   "outputs": [],
   "source": [
    "# Test showing the first 5 rows\n",
    "# bollinger_df.head()"
   ]
  },
  {
   "cell_type": "code",
   "execution_count": 109,
   "id": "ba1acfe9-96ab-42fb-b9b5-f0972c3eecce",
   "metadata": {},
   "outputs": [],
   "source": [
    "# Calculate the daily stock return\n",
    "stock_return = stock_df['Close'].pct_change()"
   ]
  },
  {
   "cell_type": "code",
   "execution_count": 110,
   "id": "8515b041-500f-48d1-b340-809beedb067a",
   "metadata": {},
   "outputs": [],
   "source": [
    "# Create a new dataframe with the stock return\n",
    "stock_result_df = pd.DataFrame(stock_return)\n",
    "stock_result_df.columns = ['Stock Return']"
   ]
  },
  {
   "cell_type": "code",
   "execution_count": 77,
   "id": "5528600f-6f2e-405c-bc06-3ec6a6aeca8e",
   "metadata": {},
   "outputs": [],
   "source": [
    "# Test showing the first 5 rows\n",
    "# stock_result_df.head()"
   ]
  },
  {
   "cell_type": "code",
   "execution_count": 57,
   "id": "9ed7f929-ad03-4560-a4d3-c60d1a991b3b",
   "metadata": {},
   "outputs": [],
   "source": [
    "# Calculate the daily SPY return\n",
    "spy_return = spy_df['Close'].pct_change()"
   ]
  },
  {
   "cell_type": "code",
   "execution_count": 79,
   "id": "b4f075fa-4632-4acb-ab87-10caca53da87",
   "metadata": {},
   "outputs": [],
   "source": [
    "# Create a new dataframe with the SPY return\n",
    "spy_result_df = pd.DataFrame(spy_return)\n",
    "spy_result_df.columns = ['SPY Return']"
   ]
  },
  {
   "cell_type": "code",
   "execution_count": 81,
   "id": "7d71c1f9-0b63-4408-b79a-044dd85c0368",
   "metadata": {},
   "outputs": [],
   "source": [
    "# Test showing the first 5 rows\n",
    "# spy_result_df.head()"
   ]
  },
  {
   "cell_type": "code",
   "execution_count": 82,
   "id": "2c8f5353-1cbe-434d-852b-5aac3745d794",
   "metadata": {},
   "outputs": [],
   "source": [
    "# Combine the stock return and SPY return in one dataframe\n",
    "stock_spy_return_df = pd.concat([stock_result_df, spy_result_df], axis=1)"
   ]
  },
  {
   "cell_type": "code",
   "execution_count": 85,
   "id": "be378ab7-1da3-4cd0-aca9-fab7c30b6e4a",
   "metadata": {},
   "outputs": [],
   "source": [
    "# Test showing the first 5 rows\n",
    "# stock_spy_return_df.head()"
   ]
  }
 ],
 "metadata": {
  "kernelspec": {
   "display_name": "Python 3 (ipykernel)",
   "language": "python",
   "name": "python3"
  },
  "language_info": {
   "codemirror_mode": {
    "name": "ipython",
    "version": 3
   },
   "file_extension": ".py",
   "mimetype": "text/x-python",
   "name": "python",
   "nbconvert_exporter": "python",
   "pygments_lexer": "ipython3",
   "version": "3.9.15"
  }
 },
 "nbformat": 4,
 "nbformat_minor": 5
}
